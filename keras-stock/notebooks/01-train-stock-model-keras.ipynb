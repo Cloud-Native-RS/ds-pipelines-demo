{
 "cells": [
  {
   "cell_type": "markdown",
   "metadata": {
    "id": "EgaNRy_Rq0wx"
   },
   "source": [
    "# Predict stock prices  with Long short-term memory (LSTM)"
   ]
  },
  {
   "cell_type": "markdown",
   "metadata": {
    "id": "S1WPMQ_LHNQU"
   },
   "source": [
    "This simple example will show you how LSTM models predict time series data. Stock market data is a great choice for this because it's quite regular and widely available via the Internet. "
   ]
  },
  {
   "cell_type": "markdown",
   "metadata": {
    "id": "vurGbUjFwBFO"
   },
   "source": [
    "## Install requirements\n",
    "We install Tensorflow 2.0 with GPU support first"
   ]
  },
  {
   "cell_type": "code",
   "execution_count": 1,
   "metadata": {
    "colab": {
     "base_uri": "https://localhost:8080/"
    },
    "id": "QSG622MbwEOJ",
    "outputId": "f1019521-b2f1-4cee-82ea-b11e9da8a625"
   },
   "outputs": [],
   "source": [
    "!pip install -qU pip\n",
    "!pip install -q tensorflow pandas-datareader"
   ]
  },
  {
   "cell_type": "code",
   "execution_count": 2,
   "metadata": {
    "colab": {
     "base_uri": "https://localhost:8080/"
    },
    "id": "K5Wmmx6-iPUT",
    "outputId": "40378ab6-c57f-4e78-99dc-4ea2f72a46e4"
   },
   "outputs": [],
   "source": [
    "!pip install -q pydot pydot-ng"
   ]
  },
  {
   "cell_type": "code",
   "execution_count": 3,
   "metadata": {},
   "outputs": [],
   "source": [
    "!pip install -Uq yfinance pandas-datareader"
   ]
  },
  {
   "cell_type": "code",
   "execution_count": 4,
   "metadata": {},
   "outputs": [],
   "source": [
    "import os\n",
    "\n",
    "scratch_path = os.environ.get(\"SCRATCH\", \"./scratch\")\n",
    "if not os.path.exists(scratch_path):\n",
    "    os.makedirs(scratch_path)"
   ]
  },
  {
   "cell_type": "markdown",
   "metadata": {
    "id": "Fcl6EKdTv51W"
   },
   "source": [
    "## Introduction"
   ]
  },
  {
   "cell_type": "markdown",
   "metadata": {
    "id": "Rui0kjzEvXTV"
   },
   "source": [
    "LSTMs are very powerful in sequence prediction problems. They can store past information."
   ]
  },
  {
   "cell_type": "markdown",
   "metadata": {
    "id": "Ed7_c04-vz2f"
   },
   "source": [
    "## Loading the dataset\n",
    "I use pandas-datareader to get the historical stock prices from Yahoo! finance. For this example, I get only the historical data till the end of *training_end_data*.  "
   ]
  },
  {
   "cell_type": "code",
   "execution_count": 5,
   "metadata": {
    "id": "Hh-pO_QXqysJ"
   },
   "outputs": [],
   "source": [
    "import numpy as np\n",
    "import matplotlib.pyplot as plt\n",
    "import pandas as pd"
   ]
  },
  {
   "cell_type": "code",
   "execution_count": 6,
   "metadata": {
    "colab": {
     "base_uri": "https://localhost:8080/",
     "height": 575
    },
    "id": "3wswLSM8t-SS",
    "outputId": "dae3935f-6737-41e1-e804-32a34d004023"
   },
   "outputs": [
    {
     "name": "stderr",
     "output_type": "stream",
     "text": [
      "2023-09-14 02:51:16.455910: I tensorflow/core/platform/cpu_feature_guard.cc:193] This TensorFlow binary is optimized with oneAPI Deep Neural Network Library (oneDNN) to use the following CPU instructions in performance-critical operations:  AVX2 AVX512F FMA\n",
      "To enable them in other operations, rebuild TensorFlow with the appropriate compiler flags.\n",
      "2023-09-14 02:51:17.339575: W tensorflow/compiler/xla/stream_executor/platform/default/dso_loader.cc:64] Could not load dynamic library 'libnvinfer.so.7'; dlerror: libnvinfer.so.7: cannot open shared object file: No such file or directory; LD_LIBRARY_PATH: /usr/local/nvidia/lib:/usr/local/nvidia/lib64\n",
      "2023-09-14 02:51:17.339672: W tensorflow/compiler/xla/stream_executor/platform/default/dso_loader.cc:64] Could not load dynamic library 'libnvinfer_plugin.so.7'; dlerror: libnvinfer_plugin.so.7: cannot open shared object file: No such file or directory; LD_LIBRARY_PATH: /usr/local/nvidia/lib:/usr/local/nvidia/lib64\n",
      "2023-09-14 02:51:17.339684: W tensorflow/compiler/tf2tensorrt/utils/py_utils.cc:38] TF-TRT Warning: Cannot dlopen some TensorRT libraries. If you would like to use Nvidia GPU with TensorRT, please make sure the missing libraries mentioned above are installed properly.\n"
     ]
    }
   ],
   "source": [
    "import numpy as np  # python library for scientific computing\n",
    "import pandas as pd  # python library for data manipulation and analysis\n",
    "import matplotlib.pyplot as plt  # python library for charting\n",
    "from pandas_datareader import (\n",
    "    data as pdr,\n",
    ")  # extract data from internet sources into pandas data frame\n",
    "import yfinance as yf\n",
    "import tensorflow as tf"
   ]
  },
  {
   "cell_type": "code",
   "execution_count": 7,
   "metadata": {
    "colab": {
     "base_uri": "https://localhost:8080/"
    },
    "id": "D8-w0eEtwnaj",
    "outputId": "27deb749-4592-4493-d26b-7cf70b0a54da"
   },
   "outputs": [
    {
     "name": "stdout",
     "output_type": "stream",
     "text": [
      "[*********************100%%**********************]  1 of 1 completed\n"
     ]
    }
   ],
   "source": [
    "tickers = \"IBM\"\n",
    "\n",
    "start_date = \"1980-12-01\"\n",
    "end_date = \"2018-12-31\"\n",
    "\n",
    "yf.pdr_override()\n",
    "stock_data = pdr.get_data_yahoo(tickers, start_date)"
   ]
  },
  {
   "cell_type": "code",
   "execution_count": 8,
   "metadata": {
    "colab": {
     "base_uri": "https://localhost:8080/"
    },
    "id": "dFKhZw-YMM0w",
    "outputId": "8e8509cb-037d-490a-a2b9-61489c849ace"
   },
   "outputs": [
    {
     "name": "stdout",
     "output_type": "stream",
     "text": [
      "Read in 10787 stock values\n"
     ]
    }
   ],
   "source": [
    "stock_data_len = stock_data[\"Close\"].count()\n",
    "print(f\"Read in {stock_data_len} stock values\")"
   ]
  },
  {
   "cell_type": "code",
   "execution_count": 9,
   "metadata": {
    "colab": {
     "base_uri": "https://localhost:8080/"
    },
    "id": "Ns7Zcn2ZClZS",
    "outputId": "dcc262d5-ed12-43b7-918e-fb9c34eac319"
   },
   "outputs": [],
   "source": [
    "close_prices = stock_data.iloc[:, 1:2].values\n",
    "# print(close_prices)"
   ]
  },
  {
   "cell_type": "markdown",
   "metadata": {
    "id": "KNaLuS1X5IVA"
   },
   "source": [
    "Of course, some of the weekdays might be public holidays in which case no price will be available. For this reason, we will fill the missing prices with the latest available prices"
   ]
  },
  {
   "cell_type": "code",
   "execution_count": 10,
   "metadata": {
    "colab": {
     "base_uri": "https://localhost:8080/"
    },
    "id": "P6GTsn7N5Nf2",
    "outputId": "ed2dbd3d-90db-4737-e3bc-8fa0e742cce0"
   },
   "outputs": [
    {
     "name": "stdout",
     "output_type": "stream",
     "text": [
      "DatetimeIndex(['1980-12-01', '1980-12-02', '1980-12-03', '1980-12-04',\n",
      "               '1980-12-05', '1980-12-08', '1980-12-09', '1980-12-10',\n",
      "               '1980-12-11', '1980-12-12',\n",
      "               ...\n",
      "               '2018-12-18', '2018-12-19', '2018-12-20', '2018-12-21',\n",
      "               '2018-12-24', '2018-12-25', '2018-12-26', '2018-12-27',\n",
      "               '2018-12-28', '2018-12-31'],\n",
      "              dtype='datetime64[ns]', length=9936, freq='B')\n"
     ]
    }
   ],
   "source": [
    "all_bussinessdays = pd.date_range(start=start_date, end=end_date, freq=\"B\")\n",
    "print(all_bussinessdays)"
   ]
  },
  {
   "cell_type": "code",
   "execution_count": 11,
   "metadata": {
    "id": "NDu-0h2i9MkT",
    "tags": []
   },
   "outputs": [],
   "source": [
    "close_prices = stock_data.reindex(all_bussinessdays)\n",
    "close_prices = stock_data.fillna(method=\"ffill\")"
   ]
  },
  {
   "cell_type": "markdown",
   "metadata": {
    "id": "06xfVbrD51Id"
   },
   "source": [
    "The dataset is now complete and free of missing values. Let's have a look to the data frame summary:"
   ]
  },
  {
   "cell_type": "markdown",
   "metadata": {
    "id": "TR3_R4OF8pNo"
   },
   "source": [
    "## Feature scaling"
   ]
  },
  {
   "cell_type": "code",
   "execution_count": 12,
   "metadata": {
    "id": "hFwPXHiU8rDv"
   },
   "outputs": [],
   "source": [
    "training_set = close_prices.iloc[:, 1:2].values"
   ]
  },
  {
   "cell_type": "code",
   "execution_count": 13,
   "metadata": {
    "colab": {
     "base_uri": "https://localhost:8080/"
    },
    "id": "c9TpiTPs9QtF",
    "outputId": "dd382bfa-a252-4ae0-e5ee-afc70f09e319"
   },
   "outputs": [],
   "source": [
    "from sklearn.preprocessing import MinMaxScaler\n",
    "\n",
    "sc = MinMaxScaler(feature_range=(0, 1))\n",
    "training_set_scaled = sc.fit_transform(training_set)\n",
    "# print(training_set_scaled.shape)"
   ]
  },
  {
   "cell_type": "markdown",
   "metadata": {
    "id": "NmYp53pYHeQu"
   },
   "source": [
    "LSTMs expect the data in a specific format, usually a 3D tensor. I start by creating data with 60 days and converting it into an array using NumPy. Next, I convert the data into a 3D dimension array with feature_set samples, 60 days and one feature at each step."
   ]
  },
  {
   "cell_type": "code",
   "execution_count": 14,
   "metadata": {
    "id": "HSZBYUcIDfWV"
   },
   "outputs": [],
   "source": [
    "features = []\n",
    "labels = []\n",
    "for i in range(60, stock_data_len):\n",
    "    features.append(training_set_scaled[i - 60 : i, 0])\n",
    "    labels.append(training_set_scaled[i, 0])\n",
    "\n",
    "features = np.array(features)\n",
    "labels = np.array(labels)\n",
    "\n",
    "features = np.reshape(features, (features.shape[0], features.shape[1], 1))"
   ]
  },
  {
   "cell_type": "markdown",
   "metadata": {
    "id": "tfK2gzVI_sTX"
   },
   "source": [
    "Feature tensor with three dimension: features[0] contains the ..., features[1] contains the last 60 days of values and features [2] contains the  ..."
   ]
  },
  {
   "cell_type": "markdown",
   "metadata": {
    "id": "-MQYJqsDGFYA"
   },
   "source": [
    "## Create the LSTM network\n",
    "Let's create a sequenced LSTM network with 50 units. Also the net includes some dropout layers with 0.2 which means that 20% of the neurons will be dropped."
   ]
  },
  {
   "cell_type": "code",
   "execution_count": 15,
   "metadata": {
    "id": "Tel113HiEcYE"
   },
   "outputs": [
    {
     "name": "stderr",
     "output_type": "stream",
     "text": [
      "2023-09-14 02:51:19.230954: W tensorflow/compiler/xla/stream_executor/platform/default/dso_loader.cc:64] Could not load dynamic library 'libcuda.so.1'; dlerror: libcuda.so.1: cannot open shared object file: No such file or directory; LD_LIBRARY_PATH: /usr/local/nvidia/lib:/usr/local/nvidia/lib64\n",
      "2023-09-14 02:51:19.230984: W tensorflow/compiler/xla/stream_executor/cuda/cuda_driver.cc:265] failed call to cuInit: UNKNOWN ERROR (303)\n",
      "2023-09-14 02:51:19.231021: I tensorflow/compiler/xla/stream_executor/cuda/cuda_diagnostics.cc:156] kernel driver does not appear to be running on this host (demo-0): /proc/driver/nvidia/version does not exist\n",
      "2023-09-14 02:51:19.231384: I tensorflow/core/platform/cpu_feature_guard.cc:193] This TensorFlow binary is optimized with oneAPI Deep Neural Network Library (oneDNN) to use the following CPU instructions in performance-critical operations:  AVX2 AVX512F FMA\n",
      "To enable them in other operations, rebuild TensorFlow with the appropriate compiler flags.\n"
     ]
    }
   ],
   "source": [
    "model = tf.keras.models.Sequential(\n",
    "    [\n",
    "        tf.keras.layers.LSTM(\n",
    "            units=50, return_sequences=True, input_shape=(features.shape[1], 1)\n",
    "        ),\n",
    "        tf.keras.layers.Dropout(0.2),\n",
    "        tf.keras.layers.LSTM(units=50, return_sequences=True),\n",
    "        tf.keras.layers.Dropout(0.2),\n",
    "        tf.keras.layers.LSTM(units=50, return_sequences=True),\n",
    "        tf.keras.layers.Dropout(0.2),\n",
    "        tf.keras.layers.LSTM(units=50),\n",
    "        tf.keras.layers.Dropout(0.2),\n",
    "        tf.keras.layers.Dense(units=1),\n",
    "    ]\n",
    ")"
   ]
  },
  {
   "cell_type": "code",
   "execution_count": 16,
   "metadata": {
    "colab": {
     "base_uri": "https://localhost:8080/"
    },
    "id": "7nlzkKHiPuaR",
    "outputId": "d3c75969-c611-4ebb-cf4c-0adaabd66c32"
   },
   "outputs": [
    {
     "name": "stdout",
     "output_type": "stream",
     "text": [
      "Model: \"sequential\"\n",
      "_________________________________________________________________\n",
      " Layer (type)                Output Shape              Param #   \n",
      "=================================================================\n",
      " lstm (LSTM)                 (None, 60, 50)            10400     \n",
      "                                                                 \n",
      " dropout (Dropout)           (None, 60, 50)            0         \n",
      "                                                                 \n",
      " lstm_1 (LSTM)               (None, 60, 50)            20200     \n",
      "                                                                 \n",
      " dropout_1 (Dropout)         (None, 60, 50)            0         \n",
      "                                                                 \n",
      " lstm_2 (LSTM)               (None, 60, 50)            20200     \n",
      "                                                                 \n",
      " dropout_2 (Dropout)         (None, 60, 50)            0         \n",
      "                                                                 \n",
      " lstm_3 (LSTM)               (None, 50)                20200     \n",
      "                                                                 \n",
      " dropout_3 (Dropout)         (None, 50)                0         \n",
      "                                                                 \n",
      " dense (Dense)               (None, 1)                 51        \n",
      "                                                                 \n",
      "=================================================================\n",
      "Total params: 71,051\n",
      "Trainable params: 71,051\n",
      "Non-trainable params: 0\n",
      "_________________________________________________________________\n",
      "None\n"
     ]
    }
   ],
   "source": [
    "print(model.summary())"
   ]
  },
  {
   "cell_type": "markdown",
   "metadata": {
    "id": "TVtDPeEZGmqP"
   },
   "source": [
    "The model will be compiled and optimize by the adam optimizer and set the loss function as mean_squarred_error"
   ]
  },
  {
   "cell_type": "code",
   "execution_count": 17,
   "metadata": {
    "id": "lj9k7R5UFrqO"
   },
   "outputs": [],
   "source": [
    "model.compile(optimizer=\"adam\", loss=\"mean_squared_error\")"
   ]
  },
  {
   "cell_type": "code",
   "execution_count": 18,
   "metadata": {
    "colab": {
     "base_uri": "https://localhost:8080/"
    },
    "id": "vdatQv4CTSvn",
    "outputId": "5ad7bd40-9028-43a4-8278-a09a62e18ce1"
   },
   "outputs": [
    {
     "name": "stdout",
     "output_type": "stream",
     "text": [
      "Epoch 1/5\n",
      "336/336 [==============================] - 59s 160ms/step - loss: 0.0052\n",
      "Epoch 2/5\n",
      "336/336 [==============================] - 49s 146ms/step - loss: 0.0022\n",
      "Epoch 3/5\n",
      "336/336 [==============================] - 51s 153ms/step - loss: 0.0020\n",
      "Epoch 4/5\n",
      "336/336 [==============================] - 51s 152ms/step - loss: 0.0016\n",
      "Epoch 5/5\n",
      "336/336 [==============================] - 51s 152ms/step - loss: 0.0015\n"
     ]
    }
   ],
   "source": [
    "from time import time\n",
    "\n",
    "start = time()\n",
    "history = model.fit(features, labels, epochs=5, batch_size=32, verbose=1)\n",
    "end = time()"
   ]
  },
  {
   "cell_type": "code",
   "execution_count": 19,
   "metadata": {
    "colab": {
     "base_uri": "https://localhost:8080/"
    },
    "id": "CMjYNddpWzrs",
    "outputId": "ecbbc4b3-780a-4a99-d695-007e6b353055"
   },
   "outputs": [
    {
     "name": "stdout",
     "output_type": "stream",
     "text": [
      "Total training time 261.99090576171875 seconds\n"
     ]
    }
   ],
   "source": [
    "print(\"Total training time {} seconds\".format(end - start))"
   ]
  },
  {
   "cell_type": "code",
   "execution_count": 20,
   "metadata": {},
   "outputs": [
    {
     "name": "stderr",
     "output_type": "stream",
     "text": [
      "WARNING:absl:Found untraced functions such as _update_step_xla, lstm_cell_layer_call_fn, lstm_cell_layer_call_and_return_conditional_losses, lstm_cell_1_layer_call_fn, lstm_cell_1_layer_call_and_return_conditional_losses while saving (showing 5 of 9). These functions will not be directly callable after loading.\n"
     ]
    },
    {
     "name": "stdout",
     "output_type": "stream",
     "text": [
      "INFO:tensorflow:Assets written to: ./scratch/stocks/1/assets\n"
     ]
    },
    {
     "name": "stderr",
     "output_type": "stream",
     "text": [
      "INFO:tensorflow:Assets written to: ./scratch/stocks/1/assets\n"
     ]
    }
   ],
   "source": [
    "import os\n",
    "# save tf model format\n",
    "tf.keras.models.save_model(model, os.path.join(scratch_path, \"stocks/1\"))"
   ]
  },
  {
   "cell_type": "code",
   "execution_count": 21,
   "metadata": {},
   "outputs": [
    {
     "name": "stderr",
     "output_type": "stream",
     "text": [
      "2023-09-14 02:55:55.772642: I tensorflow/core/grappler/clusters/single_machine.cc:358] Starting new session\n",
      "2023-09-14 02:55:56.058616: I tensorflow/core/grappler/clusters/single_machine.cc:358] Starting new session\n",
      "2023-09-14 02:55:56.268008: I tensorflow/compiler/mlir/mlir_graph_optimization_pass.cc:357] MLIR V1 optimization pass is not enabled\n"
     ]
    }
   ],
   "source": [
    "import tf2onnx\n",
    "import onnx\n",
    "import os\n",
    "\n",
    "# onnx model format\n",
    "model_proto, _ = tf2onnx.convert.from_keras(model)\n",
    "onnx.save(model_proto, os.path.join(scratch_path, \"stocks.onnx\"))"
   ]
  },
  {
   "cell_type": "code",
   "execution_count": 22,
   "metadata": {
    "colab": {
     "base_uri": "https://localhost:8080/"
    },
    "id": "yztm7-PfI_zx",
    "outputId": "bbdc35fe-d994-4ba4-eb73-98d8f08c0230"
   },
   "outputs": [
    {
     "name": "stdout",
     "output_type": "stream",
     "text": [
      "[*********************100%%**********************]  1 of 1 completed\n"
     ]
    }
   ],
   "source": [
    "testing_start_date = \"2019-01-01\"\n",
    "testing_end_date = \"2019-04-10\"\n",
    "\n",
    "test_stock_data = pdr.get_data_yahoo(tickers, testing_start_date, testing_end_date)"
   ]
  },
  {
   "cell_type": "code",
   "execution_count": 23,
   "metadata": {
    "id": "1iaY63cEJzTD"
   },
   "outputs": [],
   "source": [
    "test_stock_data_processed = test_stock_data.iloc[:, 1:2].values"
   ]
  },
  {
   "cell_type": "code",
   "execution_count": 24,
   "metadata": {
    "id": "q66EIEAXb1Pw"
   },
   "outputs": [],
   "source": [
    "all_stock_data = pd.concat((stock_data[\"Close\"], test_stock_data[\"Close\"]), axis=0)"
   ]
  },
  {
   "cell_type": "code",
   "execution_count": 25,
   "metadata": {
    "id": "ugpDI3hkc8Eo"
   },
   "outputs": [],
   "source": [
    "inputs = all_stock_data[len(all_stock_data) - len(test_stock_data) - 60 :].values\n",
    "inputs = inputs.reshape(-1, 1)\n",
    "inputs = sc.transform(inputs)"
   ]
  },
  {
   "cell_type": "code",
   "execution_count": 26,
   "metadata": {
    "id": "EMsXM9nEdDXS"
   },
   "outputs": [],
   "source": [
    "X_test = []\n",
    "for i in range(60, 129):\n",
    "    X_test.append(inputs[i - 60 : i, 0])"
   ]
  },
  {
   "cell_type": "code",
   "execution_count": 27,
   "metadata": {
    "colab": {
     "base_uri": "https://localhost:8080/"
    },
    "id": "JBo5fWfwek9K",
    "outputId": "f1e24d3c-0486-408f-bf1a-4e44458179ab"
   },
   "outputs": [
    {
     "name": "stdout",
     "output_type": "stream",
     "text": [
      "3/3 [==============================] - 1s 23ms/step\n"
     ]
    }
   ],
   "source": [
    "X_test = np.array(X_test)\n",
    "X_test = np.reshape(X_test, (X_test.shape[0], X_test.shape[1], 1))\n",
    "predicted_stock_price = model.predict(X_test)\n",
    "predicted_stock_price = sc.inverse_transform(predicted_stock_price)"
   ]
  },
  {
   "cell_type": "code",
   "execution_count": 35,
   "metadata": {
    "tags": []
   },
   "outputs": [
    {
     "name": "stdout",
     "output_type": "stream",
     "text": [
      "float64\n",
      "(69, 60, 1)\n",
      "float32\n",
      "(69, 1)\n"
     ]
    }
   ],
   "source": [
    "print(X_test.dtype)\n",
    "print(X_test.shape)\n",
    "print(predicted_stock_price.dtype)\n",
    "print(predicted_stock_price.shape)"
   ]
  },
  {
   "cell_type": "code",
   "execution_count": 28,
   "metadata": {
    "colab": {
     "base_uri": "https://localhost:8080/",
     "height": 564
    },
    "id": "EuEl7MRrdLUK",
    "outputId": "d728ab4f-188e-44d4-e96e-316b49f56606"
   },
   "outputs": [
    {
     "data": {
      "image/png": "[encoded data removed]",
      "text/plain": [
       "<Figure size 1000x600 with 1 Axes>"
      ]
     },
     "metadata": {},
     "output_type": "display_data"
    }
   ],
   "source": [
    "plt.figure(figsize=(10, 6))\n",
    "plt.plot(\n",
    "    test_stock_data_processed, color=\"blue\", label=\"Actual \" + tickers + \"Stock Price\"\n",
    ")\n",
    "plt.plot(\n",
    "    predicted_stock_price, color=\"red\", label=\"Predicted \" + tickers + \"Stock Price\"\n",
    ")\n",
    "plt.title(\"Actual \" + tickers + \"Stock Price Prediction\")\n",
    "plt.xlabel(\"Date\")\n",
    "plt.ylabel(tickers + \" Stock Price\")\n",
    "plt.legend()\n",
    "plt.show()"
   ]
  },
  {
   "cell_type": "code",
   "execution_count": null,
   "metadata": {},
   "outputs": [],
   "source": []
  }
 ],
 "metadata": {
  "accelerator": "GPU",
  "colab": {
   "collapsed_sections": [
    "mPYS78ikjcIa"
   ],
   "gpuType": "T4",
   "name": "stock-price-prediction-keras.ipynb",
   "provenance": []
  },
  "kernelspec": {
   "display_name": "Python 3.9",
   "language": "python",
   "name": "python3"
  },
  "language_info": {
   "codemirror_mode": {
    "name": "ipython",
    "version": 3
   },
   "file_extension": ".py",
   "mimetype": "text/x-python",
   "name": "python",
   "nbconvert_exporter": "python",
   "pygments_lexer": "ipython3",
   "version": "3.9.16"
  }
 },
 "nbformat": 4,
 "nbformat_minor": 4
}
